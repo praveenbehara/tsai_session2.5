{
 "cells": [
  {
   "cell_type": "code",
   "execution_count": 30,
   "metadata": {},
   "outputs": [],
   "source": [
    "import torch\n",
    "import torch.nn as nn\n",
    "import torch.nn.functional as F\n",
    "import torch.optim as optim   \n",
    "from torchvision import datasets, transforms\n",
    "from torch.utils.data import Dataset\n",
    "from matplotlib import pyplot as plt\n",
    "import pandas as pd\n",
    "import numpy as np"
   ]
  },
  {
   "cell_type": "code",
   "execution_count": 31,
   "metadata": {},
   "outputs": [
    {
     "data": {
      "text/plain": [
       "<torch._C.Generator at 0x1ffe3922c10>"
      ]
     },
     "execution_count": 31,
     "metadata": {},
     "output_type": "execute_result"
    }
   ],
   "source": [
    "n_epochs = 3\n",
    "batch_size_train = 64\n",
    "batch_size_test = 1000\n",
    "learning_rate = 0.01\n",
    "momentum = 0.5\n",
    "log_interval = 10\n",
    "\n",
    "random_seed = 1\n",
    "# torch.backends.cudnn.enabled = False\n",
    "torch.manual_seed(random_seed)"
   ]
  },
  {
   "cell_type": "code",
   "execution_count": 32,
   "metadata": {},
   "outputs": [
    {
     "name": "stdout",
     "output_type": "stream",
     "text": [
      "cuda\n"
     ]
    }
   ],
   "source": [
    "device = 'cuda' if torch.cuda.is_available() else 'cpu'\n",
    "print(device)"
   ]
  },
  {
   "cell_type": "code",
   "execution_count": 33,
   "metadata": {},
   "outputs": [],
   "source": [
    "train_loader = torch.utils.data.DataLoader(\n",
    "  datasets.MNIST('/files/', train=True, download=True,\n",
    "                             transform=transforms.Compose([\n",
    "                               transforms.ToTensor(),\n",
    "                               transforms.Normalize(\n",
    "                                 (0.1307,), (0.3081,))\n",
    "                             ])),\n",
    "  batch_size=batch_size_train, shuffle=True)\n",
    "\n",
    "test_loader = torch.utils.data.DataLoader(\n",
    "  datasets.MNIST('/files/', train=False, download=True,\n",
    "                             transform=transforms.Compose([\n",
    "                               transforms.ToTensor(),\n",
    "                               transforms.Normalize(\n",
    "                                 (0.1307,), (0.3081,))\n",
    "                             ])),\n",
    "  batch_size=batch_size_test, shuffle=True)"
   ]
  },
  {
   "cell_type": "code",
   "execution_count": 34,
   "metadata": {},
   "outputs": [
    {
     "data": {
      "image/png": "[encoded data removed]",
      "text/plain": [
       "<Figure size 640x480 with 6 Axes>"
      ]
     },
     "execution_count": 34,
     "metadata": {},
     "output_type": "execute_result"
    },
    {
     "data": {
      "image/png": "[encoded data removed]",
      "text/plain": [
       "<Figure size 640x480 with 6 Axes>"
      ]
     },
     "metadata": {},
     "output_type": "display_data"
    }
   ],
   "source": [
    "examples = enumerate(test_loader)\n",
    "batch_idx, (example_data, example_targets) = next(examples)\n",
    "\n",
    "fig = plt.figure()\n",
    "for i in range(6):\n",
    "  plt.subplot(2,3,i+1)\n",
    "  plt.tight_layout()\n",
    "  plt.imshow(example_data[i][0], cmap='gray', interpolation='none')\n",
    "  plt.title(\"Ground Truth: {}\".format(example_targets[i]))\n",
    "  plt.xticks([])\n",
    "  plt.yticks([])\n",
    "fig"
   ]
  },
  {
   "cell_type": "code",
   "execution_count": 35,
   "metadata": {},
   "outputs": [],
   "source": [
    "class Net(nn.Module):\n",
    "    def __init__(self):\n",
    "        super(Net, self).__init__()\n",
    "        self.conv1 = nn.Conv2d(1, 10, kernel_size=5, device=device)\n",
    "        self.conv2 = nn.Conv2d(10, 20, kernel_size=5, device=device)\n",
    "        self.conv2_drop = nn.Dropout2d()\n",
    "        self.fc1 = nn.Linear(320, 50, device=device)\n",
    "        self.fc2 = nn.Linear(50, 10, device=device)\n",
    "\n",
    "    def forward(self, x):\n",
    "        x = F.relu(F.max_pool2d(self.conv1(x), 2))\n",
    "        x = F.relu(F.max_pool2d(self.conv2_drop(self.conv2(x)), 2))\n",
    "        x = x.view(-1, 320)\n",
    "        x = F.relu(self.fc1(x))\n",
    "        x = F.dropout(x, training=self.training)\n",
    "        x = self.fc2(x)\n",
    "        return F.log_softmax(x)"
   ]
  },
  {
   "cell_type": "code",
   "execution_count": 51,
   "metadata": {},
   "outputs": [],
   "source": [
    "network = Net()\n",
    "# optimizer = optim.SGD(network.parameters(), lr=learning_rate,\n",
    "#                       momentum=momentum)\n",
    "\n",
    "network = network.to(device=device)\n",
    "\n",
    "optimizer = optim.Adam(network.parameters(), lr=learning_rate)"
   ]
  },
  {
   "cell_type": "code",
   "execution_count": 52,
   "metadata": {},
   "outputs": [],
   "source": [
    "train_losses = []\n",
    "train_counter = []\n",
    "test_losses = []\n",
    "test_counter = [i*len(train_loader.dataset) for i in range(n_epochs + 1)]"
   ]
  },
  {
   "cell_type": "code",
   "execution_count": 53,
   "metadata": {},
   "outputs": [],
   "source": [
    "def train(epoch):\n",
    "  network.train()\n",
    "  for batch_idx, (data, target) in enumerate(train_loader):\n",
    "    optimizer.zero_grad()\n",
    "    data = data.to(device=device)\n",
    "    target = target.to(device=device)\n",
    "    output = network(data)\n",
    "    loss = F.nll_loss(output, target)\n",
    "    loss.backward()\n",
    "    optimizer.step()\n",
    "\n",
    "    # loss = loss.to(device='cpu')\n",
    "    if batch_idx % log_interval == 0:\n",
    "      print('Train Epoch: {} [{}/{} ({:.0f}%)]\\tLoss: {:.6f}'.format(\n",
    "        epoch, batch_idx * len(data), len(train_loader.dataset),\n",
    "        100. * batch_idx / len(train_loader), loss.item()))\n",
    "      train_losses.append(loss.item())\n",
    "      train_counter.append(\n",
    "        (batch_idx*64) + ((epoch-1)*len(train_loader.dataset)))\n",
    "      torch.save(network.state_dict(), './results/model.pth')\n",
    "      torch.save(optimizer.state_dict(), './results/optimizer.pth')"
   ]
  },
  {
   "cell_type": "code",
   "execution_count": 54,
   "metadata": {},
   "outputs": [],
   "source": [
    "def test():\n",
    "  network.eval()\n",
    "  test_loss = 0\n",
    "  correct = 0\n",
    "  with torch.no_grad():\n",
    "    for data, target in test_loader:\n",
    "      data = data.to(device=device)\n",
    "      target = target.to(device=device)\n",
    "      output = network(data)\n",
    "      test_loss += F.nll_loss(output, target, size_average=False).item()\n",
    "      pred = output.data.max(1, keepdim=True)[1]\n",
    "      correct += pred.eq(target.data.view_as(pred)).sum()\n",
    "  test_loss /= len(test_loader.dataset)\n",
    "  test_losses.append(test_loss)\n",
    "  print('\\nTest set: Avg. loss: {:.4f}, Accuracy: {}/{} ({:.0f}%)\\n'.format(\n",
    "    test_loss, correct, len(test_loader.dataset),\n",
    "    100. * correct / len(test_loader.dataset)))"
   ]
  },
  {
   "cell_type": "code",
   "execution_count": 55,
   "metadata": {},
   "outputs": [
    {
     "name": "stderr",
     "output_type": "stream",
     "text": [
      "C:\\Users\\prave\\AppData\\Local\\Temp\\ipykernel_23588\\3014975092.py:17: UserWarning: Implicit dimension choice for log_softmax has been deprecated. Change the call to include dim=X as an argument.\n",
      "  return F.log_softmax(x)\n"
     ]
    },
    {
     "name": "stdout",
     "output_type": "stream",
     "text": [
      "Train Epoch: 1 [0/60000 (0%)]\tLoss: 2.282716\n",
      "Train Epoch: 1 [640/60000 (1%)]\tLoss: 1.911997\n",
      "Train Epoch: 1 [1280/60000 (2%)]\tLoss: 1.678421\n",
      "Train Epoch: 1 [1920/60000 (3%)]\tLoss: 1.670092\n",
      "Train Epoch: 1 [2560/60000 (4%)]\tLoss: 1.272084\n",
      "Train Epoch: 1 [3200/60000 (5%)]\tLoss: 0.815245\n",
      "Train Epoch: 1 [3840/60000 (6%)]\tLoss: 0.905282\n",
      "Train Epoch: 1 [4480/60000 (7%)]\tLoss: 1.281043\n",
      "Train Epoch: 1 [5120/60000 (9%)]\tLoss: 0.856438\n",
      "Train Epoch: 1 [5760/60000 (10%)]\tLoss: 0.751021\n",
      "Train Epoch: 1 [6400/60000 (11%)]\tLoss: 0.811970\n",
      "Train Epoch: 1 [7040/60000 (12%)]\tLoss: 1.178945\n",
      "Train Epoch: 1 [7680/60000 (13%)]\tLoss: 0.572067\n",
      "Train Epoch: 1 [8320/60000 (14%)]\tLoss: 0.676133\n",
      "Train Epoch: 1 [8960/60000 (15%)]\tLoss: 0.854143\n",
      "Train Epoch: 1 [9600/60000 (16%)]\tLoss: 0.473110\n",
      "Train Epoch: 1 [10240/60000 (17%)]\tLoss: 0.846946\n",
      "Train Epoch: 1 [10880/60000 (18%)]\tLoss: 0.687100\n",
      "Train Epoch: 1 [11520/60000 (19%)]\tLoss: 0.553694\n",
      "Train Epoch: 1 [12160/60000 (20%)]\tLoss: 0.987258\n",
      "Train Epoch: 1 [12800/60000 (21%)]\tLoss: 0.941913\n",
      "Train Epoch: 1 [13440/60000 (22%)]\tLoss: 0.574341\n",
      "Train Epoch: 1 [14080/60000 (23%)]\tLoss: 0.864081\n",
      "Train Epoch: 1 [14720/60000 (25%)]\tLoss: 0.632159\n",
      "Train Epoch: 1 [15360/60000 (26%)]\tLoss: 0.783038\n",
      "Train Epoch: 1 [16000/60000 (27%)]\tLoss: 0.526360\n",
      "Train Epoch: 1 [16640/60000 (28%)]\tLoss: 0.433653\n",
      "Train Epoch: 1 [17280/60000 (29%)]\tLoss: 1.074382\n",
      "Train Epoch: 1 [17920/60000 (30%)]\tLoss: 0.548903\n",
      "Train Epoch: 1 [18560/60000 (31%)]\tLoss: 0.517080\n",
      "Train Epoch: 1 [19200/60000 (32%)]\tLoss: 0.520702\n",
      "Train Epoch: 1 [19840/60000 (33%)]\tLoss: 0.677409\n",
      "Train Epoch: 1 [20480/60000 (34%)]\tLoss: 1.419494\n",
      "Train Epoch: 1 [21120/60000 (35%)]\tLoss: 0.580489\n",
      "Train Epoch: 1 [21760/60000 (36%)]\tLoss: 0.570818\n",
      "Train Epoch: 1 [22400/60000 (37%)]\tLoss: 0.847805\n",
      "Train Epoch: 1 [23040/60000 (38%)]\tLoss: 0.575102\n",
      "Train Epoch: 1 [23680/60000 (39%)]\tLoss: 0.619207\n",
      "Train Epoch: 1 [24320/60000 (41%)]\tLoss: 0.582949\n",
      "Train Epoch: 1 [24960/60000 (42%)]\tLoss: 1.007417\n",
      "Train Epoch: 1 [25600/60000 (43%)]\tLoss: 0.534165\n",
      "Train Epoch: 1 [26240/60000 (44%)]\tLoss: 0.640269\n",
      "Train Epoch: 1 [26880/60000 (45%)]\tLoss: 0.555334\n",
      "Train Epoch: 1 [27520/60000 (46%)]\tLoss: 0.711130\n",
      "Train Epoch: 1 [28160/60000 (47%)]\tLoss: 0.380654\n",
      "Train Epoch: 1 [28800/60000 (48%)]\tLoss: 0.439093\n",
      "Train Epoch: 1 [29440/60000 (49%)]\tLoss: 0.695419\n",
      "Train Epoch: 1 [30080/60000 (50%)]\tLoss: 0.368621\n",
      "Train Epoch: 1 [30720/60000 (51%)]\tLoss: 0.415248\n",
      "Train Epoch: 1 [31360/60000 (52%)]\tLoss: 0.568968\n",
      "Train Epoch: 1 [32000/60000 (53%)]\tLoss: 0.369542\n",
      "Train Epoch: 1 [32640/60000 (54%)]\tLoss: 0.486146\n",
      "Train Epoch: 1 [33280/60000 (55%)]\tLoss: 1.041277\n",
      "Train Epoch: 1 [33920/60000 (57%)]\tLoss: 0.835819\n",
      "Train Epoch: 1 [34560/60000 (58%)]\tLoss: 0.660992\n",
      "Train Epoch: 1 [35200/60000 (59%)]\tLoss: 0.614673\n",
      "Train Epoch: 1 [35840/60000 (60%)]\tLoss: 0.522359\n",
      "Train Epoch: 1 [36480/60000 (61%)]\tLoss: 0.487407\n",
      "Train Epoch: 1 [37120/60000 (62%)]\tLoss: 0.783386\n",
      "Train Epoch: 1 [37760/60000 (63%)]\tLoss: 0.479859\n",
      "Train Epoch: 1 [38400/60000 (64%)]\tLoss: 0.644717\n",
      "Train Epoch: 1 [39040/60000 (65%)]\tLoss: 0.423025\n",
      "Train Epoch: 1 [39680/60000 (66%)]\tLoss: 0.680238\n",
      "Train Epoch: 1 [40320/60000 (67%)]\tLoss: 0.691109\n",
      "Train Epoch: 1 [40960/60000 (68%)]\tLoss: 0.331826\n",
      "Train Epoch: 1 [41600/60000 (69%)]\tLoss: 0.505603\n",
      "Train Epoch: 1 [42240/60000 (70%)]\tLoss: 0.327455\n",
      "Train Epoch: 1 [42880/60000 (71%)]\tLoss: 0.733596\n",
      "Train Epoch: 1 [43520/60000 (72%)]\tLoss: 0.718864\n",
      "Train Epoch: 1 [44160/60000 (74%)]\tLoss: 0.483689\n",
      "Train Epoch: 1 [44800/60000 (75%)]\tLoss: 0.433414\n",
      "Train Epoch: 1 [45440/60000 (76%)]\tLoss: 0.189324\n",
      "Train Epoch: 1 [46080/60000 (77%)]\tLoss: 0.728092\n",
      "Train Epoch: 1 [46720/60000 (78%)]\tLoss: 0.336925\n",
      "Train Epoch: 1 [47360/60000 (79%)]\tLoss: 0.466913\n",
      "Train Epoch: 1 [48000/60000 (80%)]\tLoss: 0.506604\n",
      "Train Epoch: 1 [48640/60000 (81%)]\tLoss: 0.571329\n",
      "Train Epoch: 1 [49280/60000 (82%)]\tLoss: 0.227062\n",
      "Train Epoch: 1 [49920/60000 (83%)]\tLoss: 0.550200\n",
      "Train Epoch: 1 [50560/60000 (84%)]\tLoss: 0.550734\n",
      "Train Epoch: 1 [51200/60000 (85%)]\tLoss: 0.665882\n",
      "Train Epoch: 1 [51840/60000 (86%)]\tLoss: 0.475918\n",
      "Train Epoch: 1 [52480/60000 (87%)]\tLoss: 0.421801\n",
      "Train Epoch: 1 [53120/60000 (88%)]\tLoss: 0.369104\n",
      "Train Epoch: 1 [53760/60000 (90%)]\tLoss: 0.421652\n",
      "Train Epoch: 1 [54400/60000 (91%)]\tLoss: 0.464997\n",
      "Train Epoch: 1 [55040/60000 (92%)]\tLoss: 0.244980\n",
      "Train Epoch: 1 [55680/60000 (93%)]\tLoss: 0.436295\n",
      "Train Epoch: 1 [56320/60000 (94%)]\tLoss: 0.704808\n",
      "Train Epoch: 1 [56960/60000 (95%)]\tLoss: 0.560424\n",
      "Train Epoch: 1 [57600/60000 (96%)]\tLoss: 0.516860\n",
      "Train Epoch: 1 [58240/60000 (97%)]\tLoss: 0.497658\n",
      "Train Epoch: 1 [58880/60000 (98%)]\tLoss: 0.367249\n",
      "Train Epoch: 1 [59520/60000 (99%)]\tLoss: 0.683004\n"
     ]
    },
    {
     "name": "stderr",
     "output_type": "stream",
     "text": [
      "c:\\ProgramData\\Anaconda3\\envs\\pytorchenv3.8\\lib\\site-packages\\torch\\nn\\_reduction.py:42: UserWarning: size_average and reduce args will be deprecated, please use reduction='sum' instead.\n",
      "  warnings.warn(warning.format(ret))\n"
     ]
    },
    {
     "name": "stdout",
     "output_type": "stream",
     "text": [
      "\n",
      "Test set: Avg. loss: 0.1269, Accuracy: 9599/10000 (96%)\n",
      "\n",
      "Train Epoch: 2 [0/60000 (0%)]\tLoss: 0.705259\n",
      "Train Epoch: 2 [640/60000 (1%)]\tLoss: 0.344123\n",
      "Train Epoch: 2 [1280/60000 (2%)]\tLoss: 0.628897\n",
      "Train Epoch: 2 [1920/60000 (3%)]\tLoss: 0.651945\n",
      "Train Epoch: 2 [2560/60000 (4%)]\tLoss: 0.438607\n",
      "Train Epoch: 2 [3200/60000 (5%)]\tLoss: 0.512447\n",
      "Train Epoch: 2 [3840/60000 (6%)]\tLoss: 0.562236\n",
      "Train Epoch: 2 [4480/60000 (7%)]\tLoss: 0.535902\n",
      "Train Epoch: 2 [5120/60000 (9%)]\tLoss: 0.633283\n",
      "Train Epoch: 2 [5760/60000 (10%)]\tLoss: 0.266991\n",
      "Train Epoch: 2 [6400/60000 (11%)]\tLoss: 0.756056\n",
      "Train Epoch: 2 [7040/60000 (12%)]\tLoss: 0.509383\n",
      "Train Epoch: 2 [7680/60000 (13%)]\tLoss: 0.593654\n",
      "Train Epoch: 2 [8320/60000 (14%)]\tLoss: 0.691175\n",
      "Train Epoch: 2 [8960/60000 (15%)]\tLoss: 0.276779\n",
      "Train Epoch: 2 [9600/60000 (16%)]\tLoss: 0.441861\n",
      "Train Epoch: 2 [10240/60000 (17%)]\tLoss: 0.875161\n",
      "Train Epoch: 2 [10880/60000 (18%)]\tLoss: 0.358817\n",
      "Train Epoch: 2 [11520/60000 (19%)]\tLoss: 0.720852\n",
      "Train Epoch: 2 [12160/60000 (20%)]\tLoss: 0.769904\n",
      "Train Epoch: 2 [12800/60000 (21%)]\tLoss: 0.262934\n",
      "Train Epoch: 2 [13440/60000 (22%)]\tLoss: 0.459676\n",
      "Train Epoch: 2 [14080/60000 (23%)]\tLoss: 0.620280\n",
      "Train Epoch: 2 [14720/60000 (25%)]\tLoss: 0.455288\n",
      "Train Epoch: 2 [15360/60000 (26%)]\tLoss: 0.299740\n",
      "Train Epoch: 2 [16000/60000 (27%)]\tLoss: 0.388253\n",
      "Train Epoch: 2 [16640/60000 (28%)]\tLoss: 0.644373\n",
      "Train Epoch: 2 [17280/60000 (29%)]\tLoss: 0.542881\n",
      "Train Epoch: 2 [17920/60000 (30%)]\tLoss: 0.514285\n",
      "Train Epoch: 2 [18560/60000 (31%)]\tLoss: 0.501594\n",
      "Train Epoch: 2 [19200/60000 (32%)]\tLoss: 0.349245\n",
      "Train Epoch: 2 [19840/60000 (33%)]\tLoss: 0.381258\n",
      "Train Epoch: 2 [20480/60000 (34%)]\tLoss: 0.753693\n",
      "Train Epoch: 2 [21120/60000 (35%)]\tLoss: 0.393967\n",
      "Train Epoch: 2 [21760/60000 (36%)]\tLoss: 0.429961\n",
      "Train Epoch: 2 [22400/60000 (37%)]\tLoss: 0.562322\n",
      "Train Epoch: 2 [23040/60000 (38%)]\tLoss: 0.457409\n",
      "Train Epoch: 2 [23680/60000 (39%)]\tLoss: 0.386248\n",
      "Train Epoch: 2 [24320/60000 (41%)]\tLoss: 0.270607\n",
      "Train Epoch: 2 [24960/60000 (42%)]\tLoss: 0.408940\n",
      "Train Epoch: 2 [25600/60000 (43%)]\tLoss: 0.497320\n",
      "Train Epoch: 2 [26240/60000 (44%)]\tLoss: 0.273856\n",
      "Train Epoch: 2 [26880/60000 (45%)]\tLoss: 0.344807\n",
      "Train Epoch: 2 [27520/60000 (46%)]\tLoss: 0.499646\n",
      "Train Epoch: 2 [28160/60000 (47%)]\tLoss: 0.455635\n",
      "Train Epoch: 2 [28800/60000 (48%)]\tLoss: 0.430253\n",
      "Train Epoch: 2 [29440/60000 (49%)]\tLoss: 0.441811\n",
      "Train Epoch: 2 [30080/60000 (50%)]\tLoss: 0.364994\n",
      "Train Epoch: 2 [30720/60000 (51%)]\tLoss: 0.476430\n",
      "Train Epoch: 2 [31360/60000 (52%)]\tLoss: 0.536480\n",
      "Train Epoch: 2 [32000/60000 (53%)]\tLoss: 0.377737\n",
      "Train Epoch: 2 [32640/60000 (54%)]\tLoss: 0.509087\n",
      "Train Epoch: 2 [33280/60000 (55%)]\tLoss: 0.459931\n",
      "Train Epoch: 2 [33920/60000 (57%)]\tLoss: 0.638478\n",
      "Train Epoch: 2 [34560/60000 (58%)]\tLoss: 0.641582\n",
      "Train Epoch: 2 [35200/60000 (59%)]\tLoss: 0.664892\n",
      "Train Epoch: 2 [35840/60000 (60%)]\tLoss: 0.496375\n",
      "Train Epoch: 2 [36480/60000 (61%)]\tLoss: 0.423261\n",
      "Train Epoch: 2 [37120/60000 (62%)]\tLoss: 0.268457\n",
      "Train Epoch: 2 [37760/60000 (63%)]\tLoss: 0.460501\n",
      "Train Epoch: 2 [38400/60000 (64%)]\tLoss: 0.294439\n",
      "Train Epoch: 2 [39040/60000 (65%)]\tLoss: 0.255352\n",
      "Train Epoch: 2 [39680/60000 (66%)]\tLoss: 0.585629\n",
      "Train Epoch: 2 [40320/60000 (67%)]\tLoss: 0.257005\n",
      "Train Epoch: 2 [40960/60000 (68%)]\tLoss: 0.538438\n",
      "Train Epoch: 2 [41600/60000 (69%)]\tLoss: 0.495280\n",
      "Train Epoch: 2 [42240/60000 (70%)]\tLoss: 0.776077\n",
      "Train Epoch: 2 [42880/60000 (71%)]\tLoss: 0.395328\n",
      "Train Epoch: 2 [43520/60000 (72%)]\tLoss: 0.335208\n",
      "Train Epoch: 2 [44160/60000 (74%)]\tLoss: 0.374897\n",
      "Train Epoch: 2 [44800/60000 (75%)]\tLoss: 0.631540\n",
      "Train Epoch: 2 [45440/60000 (76%)]\tLoss: 0.445111\n",
      "Train Epoch: 2 [46080/60000 (77%)]\tLoss: 0.522811\n",
      "Train Epoch: 2 [46720/60000 (78%)]\tLoss: 0.270729\n",
      "Train Epoch: 2 [47360/60000 (79%)]\tLoss: 0.330172\n",
      "Train Epoch: 2 [48000/60000 (80%)]\tLoss: 0.737682\n",
      "Train Epoch: 2 [48640/60000 (81%)]\tLoss: 0.357671\n",
      "Train Epoch: 2 [49280/60000 (82%)]\tLoss: 0.444207\n",
      "Train Epoch: 2 [49920/60000 (83%)]\tLoss: 0.657517\n",
      "Train Epoch: 2 [50560/60000 (84%)]\tLoss: 0.571007\n",
      "Train Epoch: 2 [51200/60000 (85%)]\tLoss: 0.416338\n",
      "Train Epoch: 2 [51840/60000 (86%)]\tLoss: 0.756591\n",
      "Train Epoch: 2 [52480/60000 (87%)]\tLoss: 0.627884\n",
      "Train Epoch: 2 [53120/60000 (88%)]\tLoss: 0.400554\n",
      "Train Epoch: 2 [53760/60000 (90%)]\tLoss: 0.535012\n",
      "Train Epoch: 2 [54400/60000 (91%)]\tLoss: 0.397455\n",
      "Train Epoch: 2 [55040/60000 (92%)]\tLoss: 0.552763\n",
      "Train Epoch: 2 [55680/60000 (93%)]\tLoss: 0.554193\n",
      "Train Epoch: 2 [56320/60000 (94%)]\tLoss: 0.527417\n",
      "Train Epoch: 2 [56960/60000 (95%)]\tLoss: 1.029209\n",
      "Train Epoch: 2 [57600/60000 (96%)]\tLoss: 0.655537\n",
      "Train Epoch: 2 [58240/60000 (97%)]\tLoss: 0.359856\n",
      "Train Epoch: 2 [58880/60000 (98%)]\tLoss: 0.214461\n",
      "Train Epoch: 2 [59520/60000 (99%)]\tLoss: 0.584666\n",
      "\n",
      "Test set: Avg. loss: 0.1265, Accuracy: 9644/10000 (96%)\n",
      "\n",
      "Train Epoch: 3 [0/60000 (0%)]\tLoss: 0.458423\n",
      "Train Epoch: 3 [640/60000 (1%)]\tLoss: 0.497510\n",
      "Train Epoch: 3 [1280/60000 (2%)]\tLoss: 0.361121\n",
      "Train Epoch: 3 [1920/60000 (3%)]\tLoss: 0.307422\n",
      "Train Epoch: 3 [2560/60000 (4%)]\tLoss: 0.299415\n",
      "Train Epoch: 3 [3200/60000 (5%)]\tLoss: 0.338835\n",
      "Train Epoch: 3 [3840/60000 (6%)]\tLoss: 0.595077\n",
      "Train Epoch: 3 [4480/60000 (7%)]\tLoss: 0.362121\n",
      "Train Epoch: 3 [5120/60000 (9%)]\tLoss: 0.170152\n",
      "Train Epoch: 3 [5760/60000 (10%)]\tLoss: 0.405046\n",
      "Train Epoch: 3 [6400/60000 (11%)]\tLoss: 0.176762\n",
      "Train Epoch: 3 [7040/60000 (12%)]\tLoss: 0.507827\n",
      "Train Epoch: 3 [7680/60000 (13%)]\tLoss: 0.369448\n",
      "Train Epoch: 3 [8320/60000 (14%)]\tLoss: 0.478845\n",
      "Train Epoch: 3 [8960/60000 (15%)]\tLoss: 0.334740\n",
      "Train Epoch: 3 [9600/60000 (16%)]\tLoss: 0.407149\n",
      "Train Epoch: 3 [10240/60000 (17%)]\tLoss: 0.699356\n",
      "Train Epoch: 3 [10880/60000 (18%)]\tLoss: 0.493131\n",
      "Train Epoch: 3 [11520/60000 (19%)]\tLoss: 0.244967\n",
      "Train Epoch: 3 [12160/60000 (20%)]\tLoss: 0.371122\n",
      "Train Epoch: 3 [12800/60000 (21%)]\tLoss: 0.416788\n",
      "Train Epoch: 3 [13440/60000 (22%)]\tLoss: 0.386161\n",
      "Train Epoch: 3 [14080/60000 (23%)]\tLoss: 0.333139\n",
      "Train Epoch: 3 [14720/60000 (25%)]\tLoss: 0.807761\n",
      "Train Epoch: 3 [15360/60000 (26%)]\tLoss: 0.299437\n",
      "Train Epoch: 3 [16000/60000 (27%)]\tLoss: 0.577259\n",
      "Train Epoch: 3 [16640/60000 (28%)]\tLoss: 0.493684\n",
      "Train Epoch: 3 [17280/60000 (29%)]\tLoss: 0.392959\n",
      "Train Epoch: 3 [17920/60000 (30%)]\tLoss: 0.309189\n",
      "Train Epoch: 3 [18560/60000 (31%)]\tLoss: 0.327612\n",
      "Train Epoch: 3 [19200/60000 (32%)]\tLoss: 0.237228\n",
      "Train Epoch: 3 [19840/60000 (33%)]\tLoss: 0.417069\n",
      "Train Epoch: 3 [20480/60000 (34%)]\tLoss: 0.483055\n",
      "Train Epoch: 3 [21120/60000 (35%)]\tLoss: 0.395933\n",
      "Train Epoch: 3 [21760/60000 (36%)]\tLoss: 0.226516\n",
      "Train Epoch: 3 [22400/60000 (37%)]\tLoss: 0.347427\n",
      "Train Epoch: 3 [23040/60000 (38%)]\tLoss: 0.652119\n",
      "Train Epoch: 3 [23680/60000 (39%)]\tLoss: 0.403279\n",
      "Train Epoch: 3 [24320/60000 (41%)]\tLoss: 0.383879\n",
      "Train Epoch: 3 [24960/60000 (42%)]\tLoss: 0.365019\n",
      "Train Epoch: 3 [25600/60000 (43%)]\tLoss: 0.292228\n",
      "Train Epoch: 3 [26240/60000 (44%)]\tLoss: 0.406594\n",
      "Train Epoch: 3 [26880/60000 (45%)]\tLoss: 0.545916\n",
      "Train Epoch: 3 [27520/60000 (46%)]\tLoss: 0.487490\n",
      "Train Epoch: 3 [28160/60000 (47%)]\tLoss: 0.140553\n",
      "Train Epoch: 3 [28800/60000 (48%)]\tLoss: 0.329608\n",
      "Train Epoch: 3 [29440/60000 (49%)]\tLoss: 0.460087\n",
      "Train Epoch: 3 [30080/60000 (50%)]\tLoss: 0.678762\n",
      "Train Epoch: 3 [30720/60000 (51%)]\tLoss: 0.401090\n",
      "Train Epoch: 3 [31360/60000 (52%)]\tLoss: 0.328927\n",
      "Train Epoch: 3 [32000/60000 (53%)]\tLoss: 0.350800\n",
      "Train Epoch: 3 [32640/60000 (54%)]\tLoss: 0.501407\n",
      "Train Epoch: 3 [33280/60000 (55%)]\tLoss: 0.383239\n",
      "Train Epoch: 3 [33920/60000 (57%)]\tLoss: 0.360494\n",
      "Train Epoch: 3 [34560/60000 (58%)]\tLoss: 0.178809\n",
      "Train Epoch: 3 [35200/60000 (59%)]\tLoss: 0.384437\n",
      "Train Epoch: 3 [35840/60000 (60%)]\tLoss: 0.641378\n",
      "Train Epoch: 3 [36480/60000 (61%)]\tLoss: 0.299920\n",
      "Train Epoch: 3 [37120/60000 (62%)]\tLoss: 0.478470\n",
      "Train Epoch: 3 [37760/60000 (63%)]\tLoss: 0.399272\n",
      "Train Epoch: 3 [38400/60000 (64%)]\tLoss: 0.419326\n",
      "Train Epoch: 3 [39040/60000 (65%)]\tLoss: 0.370623\n",
      "Train Epoch: 3 [39680/60000 (66%)]\tLoss: 0.574624\n",
      "Train Epoch: 3 [40320/60000 (67%)]\tLoss: 1.133263\n",
      "Train Epoch: 3 [40960/60000 (68%)]\tLoss: 0.446326\n",
      "Train Epoch: 3 [41600/60000 (69%)]\tLoss: 0.641712\n",
      "Train Epoch: 3 [42240/60000 (70%)]\tLoss: 0.509823\n",
      "Train Epoch: 3 [42880/60000 (71%)]\tLoss: 0.464340\n",
      "Train Epoch: 3 [43520/60000 (72%)]\tLoss: 0.365656\n",
      "Train Epoch: 3 [44160/60000 (74%)]\tLoss: 0.334811\n",
      "Train Epoch: 3 [44800/60000 (75%)]\tLoss: 0.825420\n",
      "Train Epoch: 3 [45440/60000 (76%)]\tLoss: 0.615990\n",
      "Train Epoch: 3 [46080/60000 (77%)]\tLoss: 0.221519\n",
      "Train Epoch: 3 [46720/60000 (78%)]\tLoss: 0.565257\n",
      "Train Epoch: 3 [47360/60000 (79%)]\tLoss: 0.417006\n",
      "Train Epoch: 3 [48000/60000 (80%)]\tLoss: 0.437970\n",
      "Train Epoch: 3 [48640/60000 (81%)]\tLoss: 0.594653\n",
      "Train Epoch: 3 [49280/60000 (82%)]\tLoss: 0.385728\n",
      "Train Epoch: 3 [49920/60000 (83%)]\tLoss: 0.374058\n",
      "Train Epoch: 3 [50560/60000 (84%)]\tLoss: 0.406118\n",
      "Train Epoch: 3 [51200/60000 (85%)]\tLoss: 0.789686\n",
      "Train Epoch: 3 [51840/60000 (86%)]\tLoss: 0.440388\n",
      "Train Epoch: 3 [52480/60000 (87%)]\tLoss: 0.439322\n",
      "Train Epoch: 3 [53120/60000 (88%)]\tLoss: 0.623854\n",
      "Train Epoch: 3 [53760/60000 (90%)]\tLoss: 0.370198\n",
      "Train Epoch: 3 [54400/60000 (91%)]\tLoss: 0.295673\n",
      "Train Epoch: 3 [55040/60000 (92%)]\tLoss: 0.665840\n",
      "Train Epoch: 3 [55680/60000 (93%)]\tLoss: 0.495980\n",
      "Train Epoch: 3 [56320/60000 (94%)]\tLoss: 0.330445\n",
      "Train Epoch: 3 [56960/60000 (95%)]\tLoss: 0.534758\n",
      "Train Epoch: 3 [57600/60000 (96%)]\tLoss: 0.897855\n",
      "Train Epoch: 3 [58240/60000 (97%)]\tLoss: 0.362823\n",
      "Train Epoch: 3 [58880/60000 (98%)]\tLoss: 0.255827\n",
      "Train Epoch: 3 [59520/60000 (99%)]\tLoss: 0.536442\n",
      "\n",
      "Test set: Avg. loss: 0.1133, Accuracy: 9651/10000 (97%)\n",
      "\n"
     ]
    }
   ],
   "source": [
    "# test()\n",
    "for epoch in range(1, n_epochs + 1):\n",
    "  train(epoch)\n",
    "  test()"
   ]
  },
  {
   "cell_type": "code",
   "execution_count": 71,
   "metadata": {},
   "outputs": [
    {
     "name": "stdout",
     "output_type": "stream",
     "text": [
      "282 282\n",
      "4 3\n"
     ]
    }
   ],
   "source": [
    "print(len(train_counter), len(train_losses))\n",
    "print(len(test_counter), len(test_losses))"
   ]
  },
  {
   "cell_type": "code",
   "execution_count": 56,
   "metadata": {},
   "outputs": [
    {
     "ename": "ValueError",
     "evalue": "x and y must be the same size",
     "output_type": "error",
     "traceback": [
      "\u001b[1;31m---------------------------------------------------------------------------\u001b[0m",
      "\u001b[1;31mValueError\u001b[0m                                Traceback (most recent call last)",
      "Cell \u001b[1;32mIn[56], line 3\u001b[0m\n\u001b[0;32m      1\u001b[0m fig \u001b[39m=\u001b[39m plt\u001b[39m.\u001b[39mfigure()\n\u001b[0;32m      2\u001b[0m plt\u001b[39m.\u001b[39mplot(train_counter, train_losses, color\u001b[39m=\u001b[39m\u001b[39m'\u001b[39m\u001b[39mblue\u001b[39m\u001b[39m'\u001b[39m)\n\u001b[1;32m----> 3\u001b[0m plt\u001b[39m.\u001b[39;49mscatter(test_counter, test_losses, color\u001b[39m=\u001b[39;49m\u001b[39m'\u001b[39;49m\u001b[39mred\u001b[39;49m\u001b[39m'\u001b[39;49m)\n\u001b[0;32m      4\u001b[0m plt\u001b[39m.\u001b[39mlegend([\u001b[39m'\u001b[39m\u001b[39mTrain Loss\u001b[39m\u001b[39m'\u001b[39m, \u001b[39m'\u001b[39m\u001b[39mTest Loss\u001b[39m\u001b[39m'\u001b[39m], loc\u001b[39m=\u001b[39m\u001b[39m'\u001b[39m\u001b[39mupper right\u001b[39m\u001b[39m'\u001b[39m)\n\u001b[0;32m      5\u001b[0m plt\u001b[39m.\u001b[39mxlabel(\u001b[39m'\u001b[39m\u001b[39mnumber of training examples seen\u001b[39m\u001b[39m'\u001b[39m)\n",
      "File \u001b[1;32mc:\\ProgramData\\Anaconda3\\envs\\pytorchenv3.8\\lib\\site-packages\\matplotlib\\pyplot.py:2790\u001b[0m, in \u001b[0;36mscatter\u001b[1;34m(x, y, s, c, marker, cmap, norm, vmin, vmax, alpha, linewidths, edgecolors, plotnonfinite, data, **kwargs)\u001b[0m\n\u001b[0;32m   2785\u001b[0m \u001b[39m@_copy_docstring_and_deprecators\u001b[39m(Axes\u001b[39m.\u001b[39mscatter)\n\u001b[0;32m   2786\u001b[0m \u001b[39mdef\u001b[39;00m \u001b[39mscatter\u001b[39m(\n\u001b[0;32m   2787\u001b[0m         x, y, s\u001b[39m=\u001b[39m\u001b[39mNone\u001b[39;00m, c\u001b[39m=\u001b[39m\u001b[39mNone\u001b[39;00m, marker\u001b[39m=\u001b[39m\u001b[39mNone\u001b[39;00m, cmap\u001b[39m=\u001b[39m\u001b[39mNone\u001b[39;00m, norm\u001b[39m=\u001b[39m\u001b[39mNone\u001b[39;00m,\n\u001b[0;32m   2788\u001b[0m         vmin\u001b[39m=\u001b[39m\u001b[39mNone\u001b[39;00m, vmax\u001b[39m=\u001b[39m\u001b[39mNone\u001b[39;00m, alpha\u001b[39m=\u001b[39m\u001b[39mNone\u001b[39;00m, linewidths\u001b[39m=\u001b[39m\u001b[39mNone\u001b[39;00m, \u001b[39m*\u001b[39m,\n\u001b[0;32m   2789\u001b[0m         edgecolors\u001b[39m=\u001b[39m\u001b[39mNone\u001b[39;00m, plotnonfinite\u001b[39m=\u001b[39m\u001b[39mFalse\u001b[39;00m, data\u001b[39m=\u001b[39m\u001b[39mNone\u001b[39;00m, \u001b[39m*\u001b[39m\u001b[39m*\u001b[39mkwargs):\n\u001b[1;32m-> 2790\u001b[0m     __ret \u001b[39m=\u001b[39m gca()\u001b[39m.\u001b[39;49mscatter(\n\u001b[0;32m   2791\u001b[0m         x, y, s\u001b[39m=\u001b[39;49ms, c\u001b[39m=\u001b[39;49mc, marker\u001b[39m=\u001b[39;49mmarker, cmap\u001b[39m=\u001b[39;49mcmap, norm\u001b[39m=\u001b[39;49mnorm,\n\u001b[0;32m   2792\u001b[0m         vmin\u001b[39m=\u001b[39;49mvmin, vmax\u001b[39m=\u001b[39;49mvmax, alpha\u001b[39m=\u001b[39;49malpha, linewidths\u001b[39m=\u001b[39;49mlinewidths,\n\u001b[0;32m   2793\u001b[0m         edgecolors\u001b[39m=\u001b[39;49medgecolors, plotnonfinite\u001b[39m=\u001b[39;49mplotnonfinite,\n\u001b[0;32m   2794\u001b[0m         \u001b[39m*\u001b[39;49m\u001b[39m*\u001b[39;49m({\u001b[39m\"\u001b[39;49m\u001b[39mdata\u001b[39;49m\u001b[39m\"\u001b[39;49m: data} \u001b[39mif\u001b[39;49;00m data \u001b[39mis\u001b[39;49;00m \u001b[39mnot\u001b[39;49;00m \u001b[39mNone\u001b[39;49;00m \u001b[39melse\u001b[39;49;00m {}), \u001b[39m*\u001b[39;49m\u001b[39m*\u001b[39;49mkwargs)\n\u001b[0;32m   2795\u001b[0m     sci(__ret)\n\u001b[0;32m   2796\u001b[0m     \u001b[39mreturn\u001b[39;00m __ret\n",
      "File \u001b[1;32mc:\\ProgramData\\Anaconda3\\envs\\pytorchenv3.8\\lib\\site-packages\\matplotlib\\__init__.py:1423\u001b[0m, in \u001b[0;36m_preprocess_data.<locals>.inner\u001b[1;34m(ax, data, *args, **kwargs)\u001b[0m\n\u001b[0;32m   1420\u001b[0m \u001b[39m@functools\u001b[39m\u001b[39m.\u001b[39mwraps(func)\n\u001b[0;32m   1421\u001b[0m \u001b[39mdef\u001b[39;00m \u001b[39minner\u001b[39m(ax, \u001b[39m*\u001b[39margs, data\u001b[39m=\u001b[39m\u001b[39mNone\u001b[39;00m, \u001b[39m*\u001b[39m\u001b[39m*\u001b[39mkwargs):\n\u001b[0;32m   1422\u001b[0m     \u001b[39mif\u001b[39;00m data \u001b[39mis\u001b[39;00m \u001b[39mNone\u001b[39;00m:\n\u001b[1;32m-> 1423\u001b[0m         \u001b[39mreturn\u001b[39;00m func(ax, \u001b[39m*\u001b[39;49m\u001b[39mmap\u001b[39;49m(sanitize_sequence, args), \u001b[39m*\u001b[39;49m\u001b[39m*\u001b[39;49mkwargs)\n\u001b[0;32m   1425\u001b[0m     bound \u001b[39m=\u001b[39m new_sig\u001b[39m.\u001b[39mbind(ax, \u001b[39m*\u001b[39margs, \u001b[39m*\u001b[39m\u001b[39m*\u001b[39mkwargs)\n\u001b[0;32m   1426\u001b[0m     auto_label \u001b[39m=\u001b[39m (bound\u001b[39m.\u001b[39marguments\u001b[39m.\u001b[39mget(label_namer)\n\u001b[0;32m   1427\u001b[0m                   \u001b[39mor\u001b[39;00m bound\u001b[39m.\u001b[39mkwargs\u001b[39m.\u001b[39mget(label_namer))\n",
      "File \u001b[1;32mc:\\ProgramData\\Anaconda3\\envs\\pytorchenv3.8\\lib\\site-packages\\matplotlib\\axes\\_axes.py:4520\u001b[0m, in \u001b[0;36mAxes.scatter\u001b[1;34m(self, x, y, s, c, marker, cmap, norm, vmin, vmax, alpha, linewidths, edgecolors, plotnonfinite, **kwargs)\u001b[0m\n\u001b[0;32m   4518\u001b[0m y \u001b[39m=\u001b[39m np\u001b[39m.\u001b[39mma\u001b[39m.\u001b[39mravel(y)\n\u001b[0;32m   4519\u001b[0m \u001b[39mif\u001b[39;00m x\u001b[39m.\u001b[39msize \u001b[39m!=\u001b[39m y\u001b[39m.\u001b[39msize:\n\u001b[1;32m-> 4520\u001b[0m     \u001b[39mraise\u001b[39;00m \u001b[39mValueError\u001b[39;00m(\u001b[39m\"\u001b[39m\u001b[39mx and y must be the same size\u001b[39m\u001b[39m\"\u001b[39m)\n\u001b[0;32m   4522\u001b[0m \u001b[39mif\u001b[39;00m s \u001b[39mis\u001b[39;00m \u001b[39mNone\u001b[39;00m:\n\u001b[0;32m   4523\u001b[0m     s \u001b[39m=\u001b[39m (\u001b[39m20\u001b[39m \u001b[39mif\u001b[39;00m mpl\u001b[39m.\u001b[39mrcParams[\u001b[39m'\u001b[39m\u001b[39m_internal.classic_mode\u001b[39m\u001b[39m'\u001b[39m] \u001b[39melse\u001b[39;00m\n\u001b[0;32m   4524\u001b[0m          mpl\u001b[39m.\u001b[39mrcParams[\u001b[39m'\u001b[39m\u001b[39mlines.markersize\u001b[39m\u001b[39m'\u001b[39m] \u001b[39m*\u001b[39m\u001b[39m*\u001b[39m \u001b[39m2.0\u001b[39m)\n",
      "\u001b[1;31mValueError\u001b[0m: x and y must be the same size"
     ]
    },
    {
     "data": {
      "image/png": "[encoded data removed]",
      "text/plain": [
       "<Figure size 640x480 with 1 Axes>"
      ]
     },
     "metadata": {},
     "output_type": "display_data"
    }
   ],
   "source": [
    "\n",
    "fig = plt.figure()\n",
    "plt.plot(train_counter, train_losses, color='blue')\n",
    "plt.scatter(test_counter, test_losses, color='red')\n",
    "plt.legend(['Train Loss', 'Test Loss'], loc='upper right')\n",
    "plt.xlabel('number of training examples seen')\n",
    "plt.ylabel('negative log likelihood loss')\n",
    "fig"
   ]
  },
  {
   "cell_type": "code",
   "execution_count": 65,
   "metadata": {},
   "outputs": [
    {
     "name": "stderr",
     "output_type": "stream",
     "text": [
      "C:\\Users\\prave\\AppData\\Local\\Temp\\ipykernel_23588\\3014975092.py:17: UserWarning: Implicit dimension choice for log_softmax has been deprecated. Change the call to include dim=X as an argument.\n",
      "  return F.log_softmax(x)\n"
     ]
    }
   ],
   "source": [
    "with torch.no_grad():\n",
    "    example_data = example_data.to(device=device)\n",
    "    output = network(example_data)"
   ]
  },
  {
   "cell_type": "code",
   "execution_count": 67,
   "metadata": {},
   "outputs": [
    {
     "data": {
      "image/png": "[encoded data removed]",
      "text/plain": [
       "<Figure size 640x480 with 6 Axes>"
      ]
     },
     "execution_count": 67,
     "metadata": {},
     "output_type": "execute_result"
    },
    {
     "data": {
      "image/png": "[encoded data removed]",
      "text/plain": [
       "<Figure size 640x480 with 6 Axes>"
      ]
     },
     "metadata": {},
     "output_type": "display_data"
    }
   ],
   "source": [
    "fig = plt.figure()\n",
    "example_data = example_data.cpu()\n",
    "output = output.cpu()\n",
    "for i in range(6):\n",
    "  plt.subplot(2,3,i+1)\n",
    "  plt.tight_layout()\n",
    "  plt.imshow(example_data[i][0], cmap='gray', interpolation='none')\n",
    "  plt.title(\"Prediction: {}\".format(\n",
    "    output.data.max(1, keepdim=True)[1][i].item()))\n",
    "  plt.xticks([])\n",
    "  plt.yticks([])\n",
    "fig"
   ]
  },
  {
   "cell_type": "code",
   "execution_count": null,
   "metadata": {},
   "outputs": [],
   "source": []
  }
 ],
 "metadata": {
  "kernelspec": {
   "display_name": "pytorchenv3.8",
   "language": "python",
   "name": "python3"
  },
  "language_info": {
   "codemirror_mode": {
    "name": "ipython",
    "version": 3
   },
   "file_extension": ".py",
   "mimetype": "text/x-python",
   "name": "python",
   "nbconvert_exporter": "python",
   "pygments_lexer": "ipython3",
   "version": "3.8.15"
  },
  "orig_nbformat": 4,
  "vscode": {
   "interpreter": {
    "hash": "40e83c077b045dcfeea183b1e25e1136dbffeac92de64fc5dfcbfbf365c83fa5"
   }
  }
 },
 "nbformat": 4,
 "nbformat_minor": 2
}
